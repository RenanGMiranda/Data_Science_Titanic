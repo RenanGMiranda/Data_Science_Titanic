{
 "cells": [
  {
   "cell_type": "markdown",
   "metadata": {},
   "source": [
    "# TITANIC: Análise do Náufrago"
   ]
  },
  {
   "cell_type": "markdown",
   "metadata": {},
   "source": [
    "### Objetivo"
   ]
  },
  {
   "cell_type": "markdown",
   "metadata": {},
   "source": [
    "Este projeto tem como objetivo, analisar alguns dados do naufrágio do navio Titanic.\n",
    "Utilizando o dataframe `titanic-data-6.csv`, iremos responder algumas perguntas que pode ser extraídas do banco de dados.\n",
    "Primeiramente, uma breve contextualização sobre o Navio Titanic."
   ]
  },
  {
   "cell_type": "markdown",
   "metadata": {},
   "source": [
    "### Uma breve história sobre o Titanic\n",
    "Construido no início do século XX, o RMS TITANIC (mais conhecido com Titanic) foi um navio de passageiros pensado para ser o navio mais luxuoso da época. Com 269 metros de comprimento e 28 metros de altura era um dos maiores transatlântico da época.\n",
    "\n",
    "Partindo de Southampton (Nova Iorque) em 10 de abri de 1912, passando em Cherboung-Octeville (França) e por Queenstown (Irlanda).\n",
    "\n",
    "No dia 14 de abril de 1912 às 23h40min, colidiu com um iceberg causando a morte de mais de 1500 pessoas a bordo."
   ]
  },
  {
   "cell_type": "markdown",
   "metadata": {},
   "source": [
    "## Iniciando as Análises"
   ]
  },
  {
   "cell_type": "markdown",
   "metadata": {},
   "source": [
    "Para melhor entendimento dos dados do dataframe `titanic-data-6.csv`, utilizaremos o site www.kaggle.com/c/titanic/data como guia."
   ]
  },
  {
   "cell_type": "markdown",
   "metadata": {},
   "source": [
    "### 1 - Dicionário dos Dados\n",
    "###### PassegerId:\n",
    "Identificação crescente dos passageros, começando do número 1;\n",
    "###### Survived:\n",
    "Mostra se o passageiro não sobreviveu ('0') ou sobreviveu ('1');\n",
    "###### Pclass:\n",
    "Mostra se o passageiro era da 1ª classe ('1'), 2ª classe ('2') ou 3ª classe ('3');\n",
    "###### Name:\n",
    "Nome do passageiro;\n",
    "###### Sex:\n",
    "Sexo do passageiro;\n",
    "###### Age:\n",
    "Idade do passageiro;\n",
    "###### SibSp:\n",
    "Quantidade de irmãos / cônjuges abordo do Titanic;\n",
    "###### Parch:\n",
    "Quantidade de pais / filhos abordo do Titanic;\n",
    "###### Ticket:\n",
    "Número do Ticket;\n",
    "###### Fare:\n",
    "Tarifa do passageiro (valor da passagem);\n",
    "###### Cabin:\n",
    "Número da cabine do passageiro;\n",
    "###### Embarked:\n",
    "Mostra qual foi o porto de embarque do passageiro. Sendo C = Cherbourg, Q = Queenstown, S = Southampton."
   ]
  },
  {
   "cell_type": "markdown",
   "metadata": {},
   "source": [
    "### 2 - Explorando o Dataframe"
   ]
  },
  {
   "cell_type": "code",
   "execution_count": 1,
   "metadata": {},
   "outputs": [],
   "source": [
    "#importando as bibliotecas\n",
    "import pandas as pd\n",
    "import numpy as np\n",
    "%matplotlib inline\n",
    "import matplotlib.pyplot as plt"
   ]
  },
  {
   "cell_type": "code",
   "execution_count": 2,
   "metadata": {},
   "outputs": [],
   "source": [
    "#importanto o conjunto de dados do arquivo 'titanic-data-6.csv'\n",
    "df = pd.read_csv('titanic-data-6.csv')"
   ]
  },
  {
   "cell_type": "code",
   "execution_count": 3,
   "metadata": {},
   "outputs": [
    {
     "data": {
      "text/html": [
       "<div>\n",
       "<style scoped>\n",
       "    .dataframe tbody tr th:only-of-type {\n",
       "        vertical-align: middle;\n",
       "    }\n",
       "\n",
       "    .dataframe tbody tr th {\n",
       "        vertical-align: top;\n",
       "    }\n",
       "\n",
       "    .dataframe thead th {\n",
       "        text-align: right;\n",
       "    }\n",
       "</style>\n",
       "<table border=\"1\" class=\"dataframe\">\n",
       "  <thead>\n",
       "    <tr style=\"text-align: right;\">\n",
       "      <th></th>\n",
       "      <th>PassengerId</th>\n",
       "      <th>Survived</th>\n",
       "      <th>Pclass</th>\n",
       "      <th>Name</th>\n",
       "      <th>Sex</th>\n",
       "      <th>Age</th>\n",
       "      <th>SibSp</th>\n",
       "      <th>Parch</th>\n",
       "      <th>Ticket</th>\n",
       "      <th>Fare</th>\n",
       "      <th>Cabin</th>\n",
       "      <th>Embarked</th>\n",
       "    </tr>\n",
       "  </thead>\n",
       "  <tbody>\n",
       "    <tr>\n",
       "      <th>0</th>\n",
       "      <td>1</td>\n",
       "      <td>0</td>\n",
       "      <td>3</td>\n",
       "      <td>Braund, Mr. Owen Harris</td>\n",
       "      <td>male</td>\n",
       "      <td>22.0</td>\n",
       "      <td>1</td>\n",
       "      <td>0</td>\n",
       "      <td>A/5 21171</td>\n",
       "      <td>7.2500</td>\n",
       "      <td>NaN</td>\n",
       "      <td>S</td>\n",
       "    </tr>\n",
       "    <tr>\n",
       "      <th>1</th>\n",
       "      <td>2</td>\n",
       "      <td>1</td>\n",
       "      <td>1</td>\n",
       "      <td>Cumings, Mrs. John Bradley (Florence Briggs Th...</td>\n",
       "      <td>female</td>\n",
       "      <td>38.0</td>\n",
       "      <td>1</td>\n",
       "      <td>0</td>\n",
       "      <td>PC 17599</td>\n",
       "      <td>71.2833</td>\n",
       "      <td>C85</td>\n",
       "      <td>C</td>\n",
       "    </tr>\n",
       "    <tr>\n",
       "      <th>2</th>\n",
       "      <td>3</td>\n",
       "      <td>1</td>\n",
       "      <td>3</td>\n",
       "      <td>Heikkinen, Miss. Laina</td>\n",
       "      <td>female</td>\n",
       "      <td>26.0</td>\n",
       "      <td>0</td>\n",
       "      <td>0</td>\n",
       "      <td>STON/O2. 3101282</td>\n",
       "      <td>7.9250</td>\n",
       "      <td>NaN</td>\n",
       "      <td>S</td>\n",
       "    </tr>\n",
       "    <tr>\n",
       "      <th>3</th>\n",
       "      <td>4</td>\n",
       "      <td>1</td>\n",
       "      <td>1</td>\n",
       "      <td>Futrelle, Mrs. Jacques Heath (Lily May Peel)</td>\n",
       "      <td>female</td>\n",
       "      <td>35.0</td>\n",
       "      <td>1</td>\n",
       "      <td>0</td>\n",
       "      <td>113803</td>\n",
       "      <td>53.1000</td>\n",
       "      <td>C123</td>\n",
       "      <td>S</td>\n",
       "    </tr>\n",
       "    <tr>\n",
       "      <th>4</th>\n",
       "      <td>5</td>\n",
       "      <td>0</td>\n",
       "      <td>3</td>\n",
       "      <td>Allen, Mr. William Henry</td>\n",
       "      <td>male</td>\n",
       "      <td>35.0</td>\n",
       "      <td>0</td>\n",
       "      <td>0</td>\n",
       "      <td>373450</td>\n",
       "      <td>8.0500</td>\n",
       "      <td>NaN</td>\n",
       "      <td>S</td>\n",
       "    </tr>\n",
       "  </tbody>\n",
       "</table>\n",
       "</div>"
      ],
      "text/plain": [
       "   PassengerId  Survived  Pclass  \\\n",
       "0            1         0       3   \n",
       "1            2         1       1   \n",
       "2            3         1       3   \n",
       "3            4         1       1   \n",
       "4            5         0       3   \n",
       "\n",
       "                                                Name     Sex   Age  SibSp  \\\n",
       "0                            Braund, Mr. Owen Harris    male  22.0      1   \n",
       "1  Cumings, Mrs. John Bradley (Florence Briggs Th...  female  38.0      1   \n",
       "2                             Heikkinen, Miss. Laina  female  26.0      0   \n",
       "3       Futrelle, Mrs. Jacques Heath (Lily May Peel)  female  35.0      1   \n",
       "4                           Allen, Mr. William Henry    male  35.0      0   \n",
       "\n",
       "   Parch            Ticket     Fare Cabin Embarked  \n",
       "0      0         A/5 21171   7.2500   NaN        S  \n",
       "1      0          PC 17599  71.2833   C85        C  \n",
       "2      0  STON/O2. 3101282   7.9250   NaN        S  \n",
       "3      0            113803  53.1000  C123        S  \n",
       "4      0            373450   8.0500   NaN        S  "
      ]
     },
     "execution_count": 3,
     "metadata": {},
     "output_type": "execute_result"
    }
   ],
   "source": [
    "#pre-visualização do dataframe\n",
    "df.head()"
   ]
  },
  {
   "cell_type": "code",
   "execution_count": 4,
   "metadata": {},
   "outputs": [
    {
     "name": "stdout",
     "output_type": "stream",
     "text": [
      "Número de Linhas no Dataframe: 891 \n",
      "Número de Colunas no Dataframe: 12\n"
     ]
    }
   ],
   "source": [
    "print(\"Número de Linhas no Dataframe: {0} \\nNúmero de Colunas no Dataframe: {1}\".format(df.shape[0], df.shape[1]))"
   ]
  },
  {
   "cell_type": "code",
   "execution_count": 5,
   "metadata": {},
   "outputs": [
    {
     "data": {
      "text/plain": [
       "PassengerId      int64\n",
       "Survived         int64\n",
       "Pclass           int64\n",
       "Name            object\n",
       "Sex             object\n",
       "Age            float64\n",
       "SibSp            int64\n",
       "Parch            int64\n",
       "Ticket          object\n",
       "Fare           float64\n",
       "Cabin           object\n",
       "Embarked        object\n",
       "dtype: object"
      ]
     },
     "execution_count": 5,
     "metadata": {},
     "output_type": "execute_result"
    }
   ],
   "source": [
    "#visualizando os tipos de dados presentes em cada coluna\n",
    "df.dtypes"
   ]
  },
  {
   "cell_type": "code",
   "execution_count": 6,
   "metadata": {},
   "outputs": [
    {
     "data": {
      "text/plain": [
       "PassengerId      0\n",
       "Survived         0\n",
       "Pclass           0\n",
       "Name             0\n",
       "Sex              0\n",
       "Age            177\n",
       "SibSp            0\n",
       "Parch            0\n",
       "Ticket           0\n",
       "Fare             0\n",
       "Cabin          687\n",
       "Embarked         2\n",
       "dtype: int64"
      ]
     },
     "execution_count": 6,
     "metadata": {},
     "output_type": "execute_result"
    }
   ],
   "source": [
    "#verificando dados nulos\n",
    "df.isnull().sum()"
   ]
  },
  {
   "cell_type": "markdown",
   "metadata": {},
   "source": [
    "###### Atráves da função isnull e sum, é mostrado a soma dos valores nulos por coluna\n",
    "No campo da idade temos 177 valores nulos;\n",
    "\n",
    "No campo Cabine temos 687 valores nulos;\n",
    "\n",
    "No campo Embarque temos 2 valores nulos."
   ]
  },
  {
   "cell_type": "markdown",
   "metadata": {},
   "source": [
    "### 3 - Limpeza do Dataframe para Melhor Compreensão"
   ]
  },
  {
   "cell_type": "code",
   "execution_count": 7,
   "metadata": {},
   "outputs": [],
   "source": [
    "#removendo colunas que não serão importante para o processo de análise\n",
    "df.drop(['PassengerId', 'Ticket', 'Cabin'], axis=1, inplace=True)"
   ]
  },
  {
   "cell_type": "code",
   "execution_count": 8,
   "metadata": {},
   "outputs": [
    {
     "data": {
      "text/html": [
       "<div>\n",
       "<style scoped>\n",
       "    .dataframe tbody tr th:only-of-type {\n",
       "        vertical-align: middle;\n",
       "    }\n",
       "\n",
       "    .dataframe tbody tr th {\n",
       "        vertical-align: top;\n",
       "    }\n",
       "\n",
       "    .dataframe thead th {\n",
       "        text-align: right;\n",
       "    }\n",
       "</style>\n",
       "<table border=\"1\" class=\"dataframe\">\n",
       "  <thead>\n",
       "    <tr style=\"text-align: right;\">\n",
       "      <th></th>\n",
       "      <th>sobreviveu</th>\n",
       "      <th>classe</th>\n",
       "      <th>nome</th>\n",
       "      <th>sexo</th>\n",
       "      <th>idade</th>\n",
       "      <th>irmaos_conjuges</th>\n",
       "      <th>pais_filhos</th>\n",
       "      <th>tarifa</th>\n",
       "      <th>embarque</th>\n",
       "    </tr>\n",
       "  </thead>\n",
       "  <tbody>\n",
       "    <tr>\n",
       "      <th>0</th>\n",
       "      <td>0</td>\n",
       "      <td>3</td>\n",
       "      <td>Braund, Mr. Owen Harris</td>\n",
       "      <td>male</td>\n",
       "      <td>22.0</td>\n",
       "      <td>1</td>\n",
       "      <td>0</td>\n",
       "      <td>7.2500</td>\n",
       "      <td>S</td>\n",
       "    </tr>\n",
       "    <tr>\n",
       "      <th>1</th>\n",
       "      <td>1</td>\n",
       "      <td>1</td>\n",
       "      <td>Cumings, Mrs. John Bradley (Florence Briggs Th...</td>\n",
       "      <td>female</td>\n",
       "      <td>38.0</td>\n",
       "      <td>1</td>\n",
       "      <td>0</td>\n",
       "      <td>71.2833</td>\n",
       "      <td>C</td>\n",
       "    </tr>\n",
       "    <tr>\n",
       "      <th>2</th>\n",
       "      <td>1</td>\n",
       "      <td>3</td>\n",
       "      <td>Heikkinen, Miss. Laina</td>\n",
       "      <td>female</td>\n",
       "      <td>26.0</td>\n",
       "      <td>0</td>\n",
       "      <td>0</td>\n",
       "      <td>7.9250</td>\n",
       "      <td>S</td>\n",
       "    </tr>\n",
       "    <tr>\n",
       "      <th>3</th>\n",
       "      <td>1</td>\n",
       "      <td>1</td>\n",
       "      <td>Futrelle, Mrs. Jacques Heath (Lily May Peel)</td>\n",
       "      <td>female</td>\n",
       "      <td>35.0</td>\n",
       "      <td>1</td>\n",
       "      <td>0</td>\n",
       "      <td>53.1000</td>\n",
       "      <td>S</td>\n",
       "    </tr>\n",
       "    <tr>\n",
       "      <th>4</th>\n",
       "      <td>0</td>\n",
       "      <td>3</td>\n",
       "      <td>Allen, Mr. William Henry</td>\n",
       "      <td>male</td>\n",
       "      <td>35.0</td>\n",
       "      <td>0</td>\n",
       "      <td>0</td>\n",
       "      <td>8.0500</td>\n",
       "      <td>S</td>\n",
       "    </tr>\n",
       "  </tbody>\n",
       "</table>\n",
       "</div>"
      ],
      "text/plain": [
       "   sobreviveu  classe                                               nome  \\\n",
       "0           0       3                            Braund, Mr. Owen Harris   \n",
       "1           1       1  Cumings, Mrs. John Bradley (Florence Briggs Th...   \n",
       "2           1       3                             Heikkinen, Miss. Laina   \n",
       "3           1       1       Futrelle, Mrs. Jacques Heath (Lily May Peel)   \n",
       "4           0       3                           Allen, Mr. William Henry   \n",
       "\n",
       "     sexo  idade  irmaos_conjuges  pais_filhos   tarifa embarque  \n",
       "0    male   22.0                1            0   7.2500        S  \n",
       "1  female   38.0                1            0  71.2833        C  \n",
       "2  female   26.0                0            0   7.9250        S  \n",
       "3  female   35.0                1            0  53.1000        S  \n",
       "4    male   35.0                0            0   8.0500        S  "
      ]
     },
     "execution_count": 8,
     "metadata": {},
     "output_type": "execute_result"
    }
   ],
   "source": [
    "#remoneando as colunas (para português)\n",
    "df.columns = ['sobreviveu','classe','nome','sexo','idade','irmaos_conjuges','pais_filhos','tarifa','embarque']\n",
    "df.head()"
   ]
  },
  {
   "cell_type": "code",
   "execution_count": 9,
   "metadata": {},
   "outputs": [],
   "source": [
    "#função para formatar os dados do dataframe, tendo como entrada o dataframe a ser formatado e saida o dataframe formatado\n",
    "def formata_dados(banco_dados):\n",
    "    \n",
    "    #traduzindo os sexos:\n",
    "    banco_dados['sexo'] = banco_dados['sexo'].replace(['male','female'],['masculino','feminino'])\n",
    "    \n",
    "    #tracando as abreviações dos locais de embarque pelo nome completo:\n",
    "    banco_dados['embarque'] = banco_dados['embarque'].replace(['C','Q','S'],['Cherbourg','Queenstown','Southampton'])\n",
    "    \n",
    "    #trocando '0' por nao e '1' por sim:\n",
    "    banco_dados['sobreviveu'] = banco_dados['sobreviveu'].replace([0,1],['nao','sim'])\n",
    "    \n",
    "    #trocando \"1\" por primeira_classe, \"2\" por segunda_classe e \"3\" por terceira_classe\n",
    "    banco_dados['classe'] = banco_dados['classe'].replace([1,2,3],['primeira_classe','segunda_classe','terceira_classe'])\n",
    "    \n",
    "    return banco_dados"
   ]
  },
  {
   "cell_type": "code",
   "execution_count": 10,
   "metadata": {},
   "outputs": [],
   "source": [
    "#utilizando a função para formatar os dados\n",
    "df = formata_dados(df)"
   ]
  },
  {
   "cell_type": "code",
   "execution_count": 11,
   "metadata": {},
   "outputs": [
    {
     "data": {
      "text/html": [
       "<div>\n",
       "<style scoped>\n",
       "    .dataframe tbody tr th:only-of-type {\n",
       "        vertical-align: middle;\n",
       "    }\n",
       "\n",
       "    .dataframe tbody tr th {\n",
       "        vertical-align: top;\n",
       "    }\n",
       "\n",
       "    .dataframe thead th {\n",
       "        text-align: right;\n",
       "    }\n",
       "</style>\n",
       "<table border=\"1\" class=\"dataframe\">\n",
       "  <thead>\n",
       "    <tr style=\"text-align: right;\">\n",
       "      <th></th>\n",
       "      <th>sobreviveu</th>\n",
       "      <th>classe</th>\n",
       "      <th>nome</th>\n",
       "      <th>sexo</th>\n",
       "      <th>idade</th>\n",
       "      <th>irmaos_conjuges</th>\n",
       "      <th>pais_filhos</th>\n",
       "      <th>tarifa</th>\n",
       "      <th>embarque</th>\n",
       "    </tr>\n",
       "  </thead>\n",
       "  <tbody>\n",
       "    <tr>\n",
       "      <th>0</th>\n",
       "      <td>nao</td>\n",
       "      <td>terceira_classe</td>\n",
       "      <td>Braund, Mr. Owen Harris</td>\n",
       "      <td>masculino</td>\n",
       "      <td>22.0</td>\n",
       "      <td>1</td>\n",
       "      <td>0</td>\n",
       "      <td>7.2500</td>\n",
       "      <td>Southampton</td>\n",
       "    </tr>\n",
       "    <tr>\n",
       "      <th>1</th>\n",
       "      <td>sim</td>\n",
       "      <td>primeira_classe</td>\n",
       "      <td>Cumings, Mrs. John Bradley (Florence Briggs Th...</td>\n",
       "      <td>feminino</td>\n",
       "      <td>38.0</td>\n",
       "      <td>1</td>\n",
       "      <td>0</td>\n",
       "      <td>71.2833</td>\n",
       "      <td>Cherbourg</td>\n",
       "    </tr>\n",
       "    <tr>\n",
       "      <th>2</th>\n",
       "      <td>sim</td>\n",
       "      <td>terceira_classe</td>\n",
       "      <td>Heikkinen, Miss. Laina</td>\n",
       "      <td>feminino</td>\n",
       "      <td>26.0</td>\n",
       "      <td>0</td>\n",
       "      <td>0</td>\n",
       "      <td>7.9250</td>\n",
       "      <td>Southampton</td>\n",
       "    </tr>\n",
       "    <tr>\n",
       "      <th>3</th>\n",
       "      <td>sim</td>\n",
       "      <td>primeira_classe</td>\n",
       "      <td>Futrelle, Mrs. Jacques Heath (Lily May Peel)</td>\n",
       "      <td>feminino</td>\n",
       "      <td>35.0</td>\n",
       "      <td>1</td>\n",
       "      <td>0</td>\n",
       "      <td>53.1000</td>\n",
       "      <td>Southampton</td>\n",
       "    </tr>\n",
       "    <tr>\n",
       "      <th>4</th>\n",
       "      <td>nao</td>\n",
       "      <td>terceira_classe</td>\n",
       "      <td>Allen, Mr. William Henry</td>\n",
       "      <td>masculino</td>\n",
       "      <td>35.0</td>\n",
       "      <td>0</td>\n",
       "      <td>0</td>\n",
       "      <td>8.0500</td>\n",
       "      <td>Southampton</td>\n",
       "    </tr>\n",
       "  </tbody>\n",
       "</table>\n",
       "</div>"
      ],
      "text/plain": [
       "  sobreviveu           classe  \\\n",
       "0        nao  terceira_classe   \n",
       "1        sim  primeira_classe   \n",
       "2        sim  terceira_classe   \n",
       "3        sim  primeira_classe   \n",
       "4        nao  terceira_classe   \n",
       "\n",
       "                                                nome       sexo  idade  \\\n",
       "0                            Braund, Mr. Owen Harris  masculino   22.0   \n",
       "1  Cumings, Mrs. John Bradley (Florence Briggs Th...   feminino   38.0   \n",
       "2                             Heikkinen, Miss. Laina   feminino   26.0   \n",
       "3       Futrelle, Mrs. Jacques Heath (Lily May Peel)   feminino   35.0   \n",
       "4                           Allen, Mr. William Henry  masculino   35.0   \n",
       "\n",
       "   irmaos_conjuges  pais_filhos   tarifa     embarque  \n",
       "0                1            0   7.2500  Southampton  \n",
       "1                1            0  71.2833    Cherbourg  \n",
       "2                0            0   7.9250  Southampton  \n",
       "3                1            0  53.1000  Southampton  \n",
       "4                0            0   8.0500  Southampton  "
      ]
     },
     "execution_count": 11,
     "metadata": {},
     "output_type": "execute_result"
    }
   ],
   "source": [
    "#verificando como ficou os dados formatados\n",
    "df.head()"
   ]
  },
  {
   "cell_type": "code",
   "execution_count": 12,
   "metadata": {},
   "outputs": [
    {
     "data": {
      "text/plain": [
       "sobreviveu          object\n",
       "classe              object\n",
       "nome                object\n",
       "sexo                object\n",
       "idade              float64\n",
       "irmaos_conjuges      int64\n",
       "pais_filhos          int64\n",
       "tarifa             float64\n",
       "embarque            object\n",
       "dtype: object"
      ]
     },
     "execution_count": 12,
     "metadata": {},
     "output_type": "execute_result"
    }
   ],
   "source": [
    "#verificando agora como ficou o tipo d o dados\n",
    "df.dtypes"
   ]
  },
  {
   "cell_type": "code",
   "execution_count": 13,
   "metadata": {},
   "outputs": [
    {
     "data": {
      "text/plain": [
       "sobreviveu           2\n",
       "classe               3\n",
       "nome               891\n",
       "sexo                 2\n",
       "idade               88\n",
       "irmaos_conjuges      7\n",
       "pais_filhos          7\n",
       "tarifa             248\n",
       "embarque             3\n",
       "dtype: int64"
      ]
     },
     "execution_count": 13,
     "metadata": {},
     "output_type": "execute_result"
    }
   ],
   "source": [
    "#retornando os valores unicos de cada coluna\n",
    "df.nunique()"
   ]
  },
  {
   "cell_type": "markdown",
   "metadata": {},
   "source": [
    "### 4 - Análise"
   ]
  },
  {
   "cell_type": "markdown",
   "metadata": {},
   "source": [
    "#### 4.0 Análises Básicas"
   ]
  },
  {
   "cell_type": "code",
   "execution_count": 14,
   "metadata": {
    "scrolled": true
   },
   "outputs": [
    {
     "data": {
      "text/html": [
       "<div>\n",
       "<style scoped>\n",
       "    .dataframe tbody tr th:only-of-type {\n",
       "        vertical-align: middle;\n",
       "    }\n",
       "\n",
       "    .dataframe tbody tr th {\n",
       "        vertical-align: top;\n",
       "    }\n",
       "\n",
       "    .dataframe thead th {\n",
       "        text-align: right;\n",
       "    }\n",
       "</style>\n",
       "<table border=\"1\" class=\"dataframe\">\n",
       "  <thead>\n",
       "    <tr style=\"text-align: right;\">\n",
       "      <th></th>\n",
       "      <th>idade</th>\n",
       "      <th>irmaos_conjuges</th>\n",
       "      <th>pais_filhos</th>\n",
       "      <th>tarifa</th>\n",
       "    </tr>\n",
       "  </thead>\n",
       "  <tbody>\n",
       "    <tr>\n",
       "      <th>count</th>\n",
       "      <td>714.000000</td>\n",
       "      <td>891.000000</td>\n",
       "      <td>891.000000</td>\n",
       "      <td>891.000000</td>\n",
       "    </tr>\n",
       "    <tr>\n",
       "      <th>mean</th>\n",
       "      <td>29.699118</td>\n",
       "      <td>0.523008</td>\n",
       "      <td>0.381594</td>\n",
       "      <td>32.204208</td>\n",
       "    </tr>\n",
       "    <tr>\n",
       "      <th>std</th>\n",
       "      <td>14.526497</td>\n",
       "      <td>1.102743</td>\n",
       "      <td>0.806057</td>\n",
       "      <td>49.693429</td>\n",
       "    </tr>\n",
       "    <tr>\n",
       "      <th>min</th>\n",
       "      <td>0.420000</td>\n",
       "      <td>0.000000</td>\n",
       "      <td>0.000000</td>\n",
       "      <td>0.000000</td>\n",
       "    </tr>\n",
       "    <tr>\n",
       "      <th>25%</th>\n",
       "      <td>20.125000</td>\n",
       "      <td>0.000000</td>\n",
       "      <td>0.000000</td>\n",
       "      <td>7.910400</td>\n",
       "    </tr>\n",
       "    <tr>\n",
       "      <th>50%</th>\n",
       "      <td>28.000000</td>\n",
       "      <td>0.000000</td>\n",
       "      <td>0.000000</td>\n",
       "      <td>14.454200</td>\n",
       "    </tr>\n",
       "    <tr>\n",
       "      <th>75%</th>\n",
       "      <td>38.000000</td>\n",
       "      <td>1.000000</td>\n",
       "      <td>0.000000</td>\n",
       "      <td>31.000000</td>\n",
       "    </tr>\n",
       "    <tr>\n",
       "      <th>max</th>\n",
       "      <td>80.000000</td>\n",
       "      <td>8.000000</td>\n",
       "      <td>6.000000</td>\n",
       "      <td>512.329200</td>\n",
       "    </tr>\n",
       "  </tbody>\n",
       "</table>\n",
       "</div>"
      ],
      "text/plain": [
       "            idade  irmaos_conjuges  pais_filhos      tarifa\n",
       "count  714.000000       891.000000   891.000000  891.000000\n",
       "mean    29.699118         0.523008     0.381594   32.204208\n",
       "std     14.526497         1.102743     0.806057   49.693429\n",
       "min      0.420000         0.000000     0.000000    0.000000\n",
       "25%     20.125000         0.000000     0.000000    7.910400\n",
       "50%     28.000000         0.000000     0.000000   14.454200\n",
       "75%     38.000000         1.000000     0.000000   31.000000\n",
       "max     80.000000         8.000000     6.000000  512.329200"
      ]
     },
     "execution_count": 14,
     "metadata": {},
     "output_type": "execute_result"
    }
   ],
   "source": [
    "#extraindo algumas informações estátisticas básicas\n",
    "df.describe()"
   ]
  },
  {
   "cell_type": "markdown",
   "metadata": {},
   "source": [
    "###### Atráves da função describe, podemos tirar algumas conclusões dos dados:\n",
    "    1º) Podemos ver que o passageiro mais velho a bordo tinha 80 anos e o mais novo tinha um pouco mais de 0,42 anos;\n",
    "    2º) A maior tarifa paga por um passageiro foi de 512.3292 e a menor foi de graça (como no dataframe não temos informações de quem era passageiro e quem era tripulação, possivelmente está tarifa de graça era dos tripulantes);\n",
    "    3º) Na categoria Irmães/Cônjuges, teve passageiros que levaram 8 pessoas consigo.\n",
    "    4º) Na categoria Pais/Filhos, teve passageiros que levaram 6 pessoas consigo."
   ]
  },
  {
   "cell_type": "code",
   "execution_count": 15,
   "metadata": {},
   "outputs": [
    {
     "data": {
      "image/png": "[encoded data removed]",
      "text/plain": [
       "<Figure size 432x288 with 1 Axes>"
      ]
     },
     "metadata": {},
     "output_type": "display_data"
    },
    {
     "name": "stdout",
     "output_type": "stream",
     "text": [
      "Quantidade de Passageiros Vivos e Mortos\n",
      "nao    549\n",
      "sim    342\n",
      "Name: sobreviveu, dtype: int64\n"
     ]
    }
   ],
   "source": [
    "#Verificando os sobreviventes e os mortos\n",
    "passageiros = df['sobreviveu'].value_counts()\n",
    "passageiros.plot(kind='pie')\n",
    "plt.title('Quantidade de Passageiros Vivos e Mortos \\nTotal de Passageiros no Titanic: {0}'.format(df.shape[0]))\n",
    "plt.show()\n",
    "print('Quantidade de Passageiros Vivos e Mortos')\n",
    "print(passageiros)"
   ]
  },
  {
   "cell_type": "markdown",
   "metadata": {},
   "source": [
    "#### 4.1 Análise por Sexo e Classe\n",
    "Qual sexo teve a maior proporção de sobreviventes?\n",
    "\n",
    "Será que a classe que o passageiro estava influenciou em sua sobrevivência?"
   ]
  },
  {
   "cell_type": "code",
   "execution_count": 16,
   "metadata": {},
   "outputs": [
    {
     "data": {
      "image/png": "[encoded data removed]",
      "text/plain": [
       "<Figure size 432x288 with 1 Axes>"
      ]
     },
     "metadata": {},
     "output_type": "display_data"
    },
    {
     "name": "stdout",
     "output_type": "stream",
     "text": [
      "PROPORÇÃO DE SOBREVIVENTES POR SEXO\n",
      "sexo\n",
      "feminino     0.742038\n",
      "masculino    0.188908\n",
      "Name: sobreviveu, dtype: float64\n"
     ]
    },
    {
     "data": {
      "image/png": "[encoded data removed]",
      "text/plain": [
       "<Figure size 432x288 with 1 Axes>"
      ]
     },
     "metadata": {},
     "output_type": "display_data"
    },
    {
     "name": "stdout",
     "output_type": "stream",
     "text": [
      "QUANTIDADE DE PASSAGEIROS POR SEXO\n",
      "masculino    577\n",
      "feminino     314\n",
      "Name: sexo, dtype: int64\n"
     ]
    }
   ],
   "source": [
    "#agrupando os sexos para verificar a proporção de sobreviventes\n",
    "df.groupby('sexo')['sobreviveu'].apply(lambda x: np.mean(x == 'sim')).plot(kind='bar')\n",
    "plt.title('PROPORÇÃO DE SOBREVIVENTES POR SEXO')\n",
    "plt.ylabel('Proporção')\n",
    "plt.show()\n",
    "\n",
    "print('PROPORÇÃO DE SOBREVIVENTES POR SEXO')\n",
    "print(df.groupby('sexo')['sobreviveu'].apply(lambda x: np.mean(x == 'sim')))\n",
    "\n",
    "passageiros_sexo = df['sexo'].value_counts()\n",
    "passageiros_sexo.plot(kind='pie')\n",
    "plt.title('QUANTIDADE DE PASSAGEIROS POR SEXO')\n",
    "plt.show()\n",
    "\n",
    "print('QUANTIDADE DE PASSAGEIROS POR SEXO')\n",
    "print(passageiros_sexo)"
   ]
  },
  {
   "cell_type": "markdown",
   "metadata": {},
   "source": [
    "Podemos ver que entre todas as mulheres presentes na tragédia, 74,2038% delas sobreviveram. Porém apenas 18,8908% dos homens presentes tiveram a sorte de sobreviver.\n",
    "\n",
    "Nesta analise, somente foi considerado o sexo de cada passageiro, não importando a idade ou classe social (que serão analisados posteriormente).\n",
    "\n",
    "Observação: é bom lembrar que estamos trabalhando com uma base de dados que não corresponde totalmente o número de passageiros presentes no Titanic."
   ]
  },
  {
   "cell_type": "code",
   "execution_count": 17,
   "metadata": {},
   "outputs": [
    {
     "data": {
      "image/png": "[encoded data removed]",
      "text/plain": [
       "<Figure size 432x288 with 1 Axes>"
      ]
     },
     "metadata": {},
     "output_type": "display_data"
    },
    {
     "data": {
      "text/plain": [
       "classe\n",
       "primeira_classe    0.629630\n",
       "segunda_classe     0.472826\n",
       "terceira_classe    0.242363\n",
       "Name: sobreviveu, dtype: float64"
      ]
     },
     "execution_count": 17,
     "metadata": {},
     "output_type": "execute_result"
    }
   ],
   "source": [
    "#agrupando os sobreviventes por classe \"social\", independente do sexo ou idade, para verificar a proporção\n",
    "df.groupby('classe')['sobreviveu'].apply(lambda x: np.mean(x == 'sim')).plot(kind='bar')\n",
    "plt.title('PROPORÇÃO DE SOBREVIVENTES POR CLASSSE')\n",
    "plt.ylabel('Proporção')\n",
    "plt.show()\n",
    "\n",
    "df.groupby('classe')['sobreviveu'].apply(lambda x: np.mean(x == 'sim'))"
   ]
  },
  {
   "cell_type": "code",
   "execution_count": 18,
   "metadata": {},
   "outputs": [
    {
     "data": {
      "image/png": "[encoded data removed]",
      "text/plain": [
       "<Figure size 432x288 with 1 Axes>"
      ]
     },
     "metadata": {},
     "output_type": "display_data"
    },
    {
     "name": "stdout",
     "output_type": "stream",
     "text": [
      "Sobreviventes por classe\n",
      "primeira_classe    136\n",
      "terceira_classe    119\n",
      "segunda_classe      87\n",
      "Name: classe, dtype: int64\n"
     ]
    }
   ],
   "source": [
    "sobreviveu_classe = df[df['sobreviveu'] == 'sim']['classe'].value_counts()\n",
    "sobreviveu_classe.plot(kind='bar')\n",
    "plt.title('QUANTIDADE DE SOBREVIVENTES POR CLASSE')\n",
    "plt.xlabel('Classes')\n",
    "plt.ylabel('Quantidade de passageiros sobreviventes')\n",
    "plt.show()\n",
    "#quantidade de sobreviventes por classe\n",
    "print(\"Sobreviventes por classe\")\n",
    "print(sobreviveu_classe)"
   ]
  },
  {
   "cell_type": "markdown",
   "metadata": {},
   "source": [
    "Proporcionalmente, entre os passageiros da primeira classe temos a maior proporção de sobreviventes (com 62,9630%), possivelmente pelo motivo de que as cabines da primeira classe ficam mais próximas dos botes salva-vidas.\n",
    "\n",
    "E entre todos os passageiros da terceira classe temos a menor proporção de sobrevivente(24,2363% de todos os passageiros da terceira classe sobreviveram).\n",
    "\n",
    "Mas o mais interessante é que quando analisamos o número de sobreviventes por classe, vemos que a quantidade de passageiros da terceira classe que sobreviveram é mais que a da segunda classe, ou seja, tinhamos no navio mais pessoas na terceira classe do que na segunda, como podemos ver abaixo:"
   ]
  },
  {
   "cell_type": "code",
   "execution_count": 19,
   "metadata": {},
   "outputs": [
    {
     "name": "stdout",
     "output_type": "stream",
     "text": [
      "Passageiros por Classe\n",
      "terceira_classe    491\n",
      "primeira_classe    216\n",
      "segunda_classe     184\n",
      "Name: classe, dtype: int64\n"
     ]
    },
    {
     "data": {
      "image/png": "[encoded data removed]",
      "text/plain": [
       "<Figure size 432x288 with 1 Axes>"
      ]
     },
     "metadata": {},
     "output_type": "display_data"
    }
   ],
   "source": [
    "#quantidade de passageiros por classe\n",
    "print('Passageiros por Classe')\n",
    "passageiros_classe = df['classe'].value_counts()\n",
    "print(passageiros_classe)\n",
    "passageiros_classe.plot(kind='pie')\n",
    "plt.title('QUANTIDADE DE PASSAGEIROS POR CLASSE')\n",
    "plt.show()"
   ]
  },
  {
   "cell_type": "markdown",
   "metadata": {},
   "source": [
    "#### 4.2 Análise por Idade por Sexo\n",
    "Qual faixa etário teve maior proporção de sobreviventes?\n"
   ]
  },
  {
   "cell_type": "markdown",
   "metadata": {},
   "source": [
    "Observação: Na análise, como vimos anteriormente, há 177 dados que não apresentam a idade, por esse motivo não consideraremos eles nas análises."
   ]
  },
  {
   "cell_type": "code",
   "execution_count": 20,
   "metadata": {},
   "outputs": [
    {
     "name": "stdout",
     "output_type": "stream",
     "text": [
      "Idade do passageiro mais jovem vivo: 0.42 anos \n",
      "Idade do passageiro mais jovem morto: 1.0 anos \n",
      "Idade do passageiro mais velho vivo: 80.0 anos \n",
      "Idade do passageiro mais velho morto: 74.0 anos\n"
     ]
    }
   ],
   "source": [
    "#vamos verificar qual a idade do mais novo e mais velho que morre e os que viveram\n",
    "novo_vivo = df[df['sobreviveu'] == 'sim']['idade'].min()\n",
    "novo_morto = df[df['sobreviveu'] == 'nao']['idade'].min()\n",
    "velho_vivo = df[df['sobreviveu'] == 'sim']['idade'].max()\n",
    "velho_morto = df[df['sobreviveu'] == 'nao']['idade'].max()\n",
    "\n",
    "print(\"Idade do passageiro mais jovem vivo: {} anos \\nIdade do passageiro mais jovem morto: {} anos \\nIdade do passageiro mais velho vivo: {} anos \\nIdade do passageiro mais velho morto: {} anos\".format(novo_vivo, novo_morto, velho_vivo, velho_morto))"
   ]
  },
  {
   "cell_type": "code",
   "execution_count": 21,
   "metadata": {},
   "outputs": [
    {
     "data": {
      "image/png": "[encoded data removed]",
      "text/plain": [
       "<Figure size 432x288 with 1 Axes>"
      ]
     },
     "metadata": {},
     "output_type": "display_data"
    }
   ],
   "source": [
    "df['idade'].plot(kind='hist', title='Histograma da Idade dos Passageiros');"
   ]
  },
  {
   "cell_type": "markdown",
   "metadata": {},
   "source": [
    "Aqui podemos notar que a maioria dos passageiros presentes no Titanic tinha entre 20 e 30 anos de idade. Além disso podemos ver que a partir dos 30 anos a quantidade de passageiros diminiu ao longo da faixa etária."
   ]
  },
  {
   "cell_type": "code",
   "execution_count": 22,
   "metadata": {},
   "outputs": [
    {
     "data": {
      "image/png": "[encoded data removed]",
      "text/plain": [
       "<Figure size 432x288 with 1 Axes>"
      ]
     },
     "metadata": {},
     "output_type": "display_data"
    },
    {
     "name": "stdout",
     "output_type": "stream",
     "text": [
      "sexo\n",
      "feminino     0.651163\n",
      "masculino    0.525000\n",
      "Name: sobreviveu, dtype: float64\n"
     ]
    },
    {
     "data": {
      "image/png": "[encoded data removed]",
      "text/plain": [
       "<Figure size 432x288 with 1 Axes>"
      ]
     },
     "metadata": {},
     "output_type": "display_data"
    },
    {
     "name": "stdout",
     "output_type": "stream",
     "text": [
      "sexo\n",
      "feminino     0.740385\n",
      "masculino    0.152284\n",
      "Name: sobreviveu, dtype: float64\n"
     ]
    },
    {
     "data": {
      "image/png": "[encoded data removed]",
      "text/plain": [
       "<Figure size 432x288 with 1 Axes>"
      ]
     },
     "metadata": {},
     "output_type": "display_data"
    },
    {
     "name": "stdout",
     "output_type": "stream",
     "text": [
      "sexo\n",
      "feminino     0.800000\n",
      "masculino    0.201031\n",
      "Name: sobreviveu, dtype: float64\n"
     ]
    },
    {
     "data": {
      "image/png": "[encoded data removed]",
      "text/plain": [
       "<Figure size 432x288 with 1 Axes>"
      ]
     },
     "metadata": {},
     "output_type": "display_data"
    },
    {
     "name": "stdout",
     "output_type": "stream",
     "text": [
      "sexo\n",
      "feminino     0.750973\n",
      "masculino    0.209790\n",
      "Name: sobreviveu, dtype: float64\n"
     ]
    }
   ],
   "source": [
    "#Dividindo os dados em faixas etárias\n",
    "crianca = df[(df['idade'] <= 15)]\n",
    "jovem = df[(df['idade'] <= 29) & (df['idade'] > 15)]\n",
    "adulto = df[(df['idade'] <= 59) & (df['idade'] > 29)]\n",
    "idoso = df[(df['idade'] < 59)]\n",
    "\n",
    "#agrupando os dados de crianças que sobreviveram\n",
    "crianca.groupby('sexo')['sobreviveu'].apply(lambda x: np.mean(x == 'sim')).plot(kind='bar')\n",
    "plt.title('PROPORÇÃO DE CRIANÇAS SOBREVIVENTES POR SEXO')\n",
    "plt.ylabel('Proporção')\n",
    "plt.show()\n",
    "print(crianca.groupby('sexo')['sobreviveu'].apply(lambda x: np.mean(x == 'sim')))\n",
    "\n",
    "#agrupando os dados de jovens que sobreviveram\n",
    "jovem.groupby('sexo')['sobreviveu'].apply(lambda x: np.mean(x == 'sim')).plot(kind='bar')\n",
    "plt.title('PROPORÇÃO DE JOVENS SOBREVIVENTES POR SEXO')\n",
    "plt.ylabel('Proporção')\n",
    "plt.show()\n",
    "print(jovem.groupby('sexo')['sobreviveu'].apply(lambda x: np.mean(x == 'sim')))\n",
    "\n",
    "#agrupando os dados de adutos que sobreviveram\n",
    "adulto.groupby('sexo')['sobreviveu'].apply(lambda x: np.mean(x == 'sim')).plot(kind='bar')\n",
    "plt.title('PROPORÇÃO DE ADULTOS SOBREVIVENTES POR SEXO')\n",
    "plt.ylabel('Proporção')\n",
    "plt.show()\n",
    "print(adulto.groupby('sexo')['sobreviveu'].apply(lambda x: np.mean(x == 'sim')))\n",
    "\n",
    "#agrupando os dados de idosos que sobreviveram\n",
    "idoso.groupby('sexo')['sobreviveu'].apply(lambda x: np.mean(x == 'sim')).plot(kind='bar')\n",
    "plt.title('PROPORÇÃO DE IDOSOS SOBREVIVENTES POR SEXO')\n",
    "plt.ylabel('Proporção')\n",
    "plt.show()\n",
    "print(idoso.groupby('sexo')['sobreviveu'].apply(lambda x: np.mean(x == 'sim')))"
   ]
  },
  {
   "cell_type": "markdown",
   "metadata": {},
   "source": [
    "Podemos notar que Homens Jovens, Adultos e idosos foram os que menos sobreviveram na trajédia, provavelmente por ser os jovens e adultos que ajudaram colocar crianças e mulheres nos botes salva-vidas.\n",
    "\n",
    "A faixa etária que não teve um desequilibrio entre sexo foi a das crianças, onde a proporção de sobreviventes estão muito próximas entre os sexos masculino e feminino.\n",
    "\n",
    "Entre os homens sobreviventes os jovens (entre 15 e 29 anos) foram os que menos sobreviveram (proporcionalmente os jovens presentes do sexo masculino).\n",
    "\n",
    "Mulheres adultas (entre 29 e 59) foram as que mais sobreviveram (possivelmente por dar prioridade por mulheres e crianças na hora do embarque nos botes salva-vidas e também possivelmente essas mulheres serem mães)."
   ]
  },
  {
   "cell_type": "markdown",
   "metadata": {},
   "source": [
    "#### 4.3 Análise dos Passageiros Gratuitos\n",
    "Será que todos os gratuitos são tripulantes do Titanic?\n",
    "\n",
    "Quantos deles sobreviveram?"
   ]
  },
  {
   "cell_type": "code",
   "execution_count": 23,
   "metadata": {},
   "outputs": [
    {
     "name": "stdout",
     "output_type": "stream",
     "text": [
      "Temos que entre todos os passageiros 15 não tiveram sua tarifa cobrada.\n"
     ]
    },
    {
     "data": {
      "text/html": [
       "<div>\n",
       "<style scoped>\n",
       "    .dataframe tbody tr th:only-of-type {\n",
       "        vertical-align: middle;\n",
       "    }\n",
       "\n",
       "    .dataframe tbody tr th {\n",
       "        vertical-align: top;\n",
       "    }\n",
       "\n",
       "    .dataframe thead th {\n",
       "        text-align: right;\n",
       "    }\n",
       "</style>\n",
       "<table border=\"1\" class=\"dataframe\">\n",
       "  <thead>\n",
       "    <tr style=\"text-align: right;\">\n",
       "      <th></th>\n",
       "      <th>sobreviveu</th>\n",
       "      <th>classe</th>\n",
       "      <th>nome</th>\n",
       "      <th>sexo</th>\n",
       "      <th>idade</th>\n",
       "      <th>irmaos_conjuges</th>\n",
       "      <th>pais_filhos</th>\n",
       "      <th>tarifa</th>\n",
       "      <th>embarque</th>\n",
       "    </tr>\n",
       "  </thead>\n",
       "  <tbody>\n",
       "    <tr>\n",
       "      <th>179</th>\n",
       "      <td>nao</td>\n",
       "      <td>terceira_classe</td>\n",
       "      <td>Leonard, Mr. Lionel</td>\n",
       "      <td>masculino</td>\n",
       "      <td>36.0</td>\n",
       "      <td>0</td>\n",
       "      <td>0</td>\n",
       "      <td>0.0</td>\n",
       "      <td>Southampton</td>\n",
       "    </tr>\n",
       "    <tr>\n",
       "      <th>263</th>\n",
       "      <td>nao</td>\n",
       "      <td>primeira_classe</td>\n",
       "      <td>Harrison, Mr. William</td>\n",
       "      <td>masculino</td>\n",
       "      <td>40.0</td>\n",
       "      <td>0</td>\n",
       "      <td>0</td>\n",
       "      <td>0.0</td>\n",
       "      <td>Southampton</td>\n",
       "    </tr>\n",
       "    <tr>\n",
       "      <th>271</th>\n",
       "      <td>sim</td>\n",
       "      <td>terceira_classe</td>\n",
       "      <td>Tornquist, Mr. William Henry</td>\n",
       "      <td>masculino</td>\n",
       "      <td>25.0</td>\n",
       "      <td>0</td>\n",
       "      <td>0</td>\n",
       "      <td>0.0</td>\n",
       "      <td>Southampton</td>\n",
       "    </tr>\n",
       "    <tr>\n",
       "      <th>277</th>\n",
       "      <td>nao</td>\n",
       "      <td>segunda_classe</td>\n",
       "      <td>Parkes, Mr. Francis \"Frank\"</td>\n",
       "      <td>masculino</td>\n",
       "      <td>NaN</td>\n",
       "      <td>0</td>\n",
       "      <td>0</td>\n",
       "      <td>0.0</td>\n",
       "      <td>Southampton</td>\n",
       "    </tr>\n",
       "    <tr>\n",
       "      <th>302</th>\n",
       "      <td>nao</td>\n",
       "      <td>terceira_classe</td>\n",
       "      <td>Johnson, Mr. William Cahoone Jr</td>\n",
       "      <td>masculino</td>\n",
       "      <td>19.0</td>\n",
       "      <td>0</td>\n",
       "      <td>0</td>\n",
       "      <td>0.0</td>\n",
       "      <td>Southampton</td>\n",
       "    </tr>\n",
       "    <tr>\n",
       "      <th>413</th>\n",
       "      <td>nao</td>\n",
       "      <td>segunda_classe</td>\n",
       "      <td>Cunningham, Mr. Alfred Fleming</td>\n",
       "      <td>masculino</td>\n",
       "      <td>NaN</td>\n",
       "      <td>0</td>\n",
       "      <td>0</td>\n",
       "      <td>0.0</td>\n",
       "      <td>Southampton</td>\n",
       "    </tr>\n",
       "    <tr>\n",
       "      <th>466</th>\n",
       "      <td>nao</td>\n",
       "      <td>segunda_classe</td>\n",
       "      <td>Campbell, Mr. William</td>\n",
       "      <td>masculino</td>\n",
       "      <td>NaN</td>\n",
       "      <td>0</td>\n",
       "      <td>0</td>\n",
       "      <td>0.0</td>\n",
       "      <td>Southampton</td>\n",
       "    </tr>\n",
       "    <tr>\n",
       "      <th>481</th>\n",
       "      <td>nao</td>\n",
       "      <td>segunda_classe</td>\n",
       "      <td>Frost, Mr. Anthony Wood \"Archie\"</td>\n",
       "      <td>masculino</td>\n",
       "      <td>NaN</td>\n",
       "      <td>0</td>\n",
       "      <td>0</td>\n",
       "      <td>0.0</td>\n",
       "      <td>Southampton</td>\n",
       "    </tr>\n",
       "    <tr>\n",
       "      <th>597</th>\n",
       "      <td>nao</td>\n",
       "      <td>terceira_classe</td>\n",
       "      <td>Johnson, Mr. Alfred</td>\n",
       "      <td>masculino</td>\n",
       "      <td>49.0</td>\n",
       "      <td>0</td>\n",
       "      <td>0</td>\n",
       "      <td>0.0</td>\n",
       "      <td>Southampton</td>\n",
       "    </tr>\n",
       "    <tr>\n",
       "      <th>633</th>\n",
       "      <td>nao</td>\n",
       "      <td>primeira_classe</td>\n",
       "      <td>Parr, Mr. William Henry Marsh</td>\n",
       "      <td>masculino</td>\n",
       "      <td>NaN</td>\n",
       "      <td>0</td>\n",
       "      <td>0</td>\n",
       "      <td>0.0</td>\n",
       "      <td>Southampton</td>\n",
       "    </tr>\n",
       "    <tr>\n",
       "      <th>674</th>\n",
       "      <td>nao</td>\n",
       "      <td>segunda_classe</td>\n",
       "      <td>Watson, Mr. Ennis Hastings</td>\n",
       "      <td>masculino</td>\n",
       "      <td>NaN</td>\n",
       "      <td>0</td>\n",
       "      <td>0</td>\n",
       "      <td>0.0</td>\n",
       "      <td>Southampton</td>\n",
       "    </tr>\n",
       "    <tr>\n",
       "      <th>732</th>\n",
       "      <td>nao</td>\n",
       "      <td>segunda_classe</td>\n",
       "      <td>Knight, Mr. Robert J</td>\n",
       "      <td>masculino</td>\n",
       "      <td>NaN</td>\n",
       "      <td>0</td>\n",
       "      <td>0</td>\n",
       "      <td>0.0</td>\n",
       "      <td>Southampton</td>\n",
       "    </tr>\n",
       "    <tr>\n",
       "      <th>806</th>\n",
       "      <td>nao</td>\n",
       "      <td>primeira_classe</td>\n",
       "      <td>Andrews, Mr. Thomas Jr</td>\n",
       "      <td>masculino</td>\n",
       "      <td>39.0</td>\n",
       "      <td>0</td>\n",
       "      <td>0</td>\n",
       "      <td>0.0</td>\n",
       "      <td>Southampton</td>\n",
       "    </tr>\n",
       "    <tr>\n",
       "      <th>815</th>\n",
       "      <td>nao</td>\n",
       "      <td>primeira_classe</td>\n",
       "      <td>Fry, Mr. Richard</td>\n",
       "      <td>masculino</td>\n",
       "      <td>NaN</td>\n",
       "      <td>0</td>\n",
       "      <td>0</td>\n",
       "      <td>0.0</td>\n",
       "      <td>Southampton</td>\n",
       "    </tr>\n",
       "    <tr>\n",
       "      <th>822</th>\n",
       "      <td>nao</td>\n",
       "      <td>primeira_classe</td>\n",
       "      <td>Reuchlin, Jonkheer. John George</td>\n",
       "      <td>masculino</td>\n",
       "      <td>38.0</td>\n",
       "      <td>0</td>\n",
       "      <td>0</td>\n",
       "      <td>0.0</td>\n",
       "      <td>Southampton</td>\n",
       "    </tr>\n",
       "  </tbody>\n",
       "</table>\n",
       "</div>"
      ],
      "text/plain": [
       "    sobreviveu           classe                              nome       sexo  \\\n",
       "179        nao  terceira_classe               Leonard, Mr. Lionel  masculino   \n",
       "263        nao  primeira_classe             Harrison, Mr. William  masculino   \n",
       "271        sim  terceira_classe      Tornquist, Mr. William Henry  masculino   \n",
       "277        nao   segunda_classe       Parkes, Mr. Francis \"Frank\"  masculino   \n",
       "302        nao  terceira_classe   Johnson, Mr. William Cahoone Jr  masculino   \n",
       "413        nao   segunda_classe    Cunningham, Mr. Alfred Fleming  masculino   \n",
       "466        nao   segunda_classe             Campbell, Mr. William  masculino   \n",
       "481        nao   segunda_classe  Frost, Mr. Anthony Wood \"Archie\"  masculino   \n",
       "597        nao  terceira_classe               Johnson, Mr. Alfred  masculino   \n",
       "633        nao  primeira_classe     Parr, Mr. William Henry Marsh  masculino   \n",
       "674        nao   segunda_classe        Watson, Mr. Ennis Hastings  masculino   \n",
       "732        nao   segunda_classe              Knight, Mr. Robert J  masculino   \n",
       "806        nao  primeira_classe            Andrews, Mr. Thomas Jr  masculino   \n",
       "815        nao  primeira_classe                  Fry, Mr. Richard  masculino   \n",
       "822        nao  primeira_classe   Reuchlin, Jonkheer. John George  masculino   \n",
       "\n",
       "     idade  irmaos_conjuges  pais_filhos  tarifa     embarque  \n",
       "179   36.0                0            0     0.0  Southampton  \n",
       "263   40.0                0            0     0.0  Southampton  \n",
       "271   25.0                0            0     0.0  Southampton  \n",
       "277    NaN                0            0     0.0  Southampton  \n",
       "302   19.0                0            0     0.0  Southampton  \n",
       "413    NaN                0            0     0.0  Southampton  \n",
       "466    NaN                0            0     0.0  Southampton  \n",
       "481    NaN                0            0     0.0  Southampton  \n",
       "597   49.0                0            0     0.0  Southampton  \n",
       "633    NaN                0            0     0.0  Southampton  \n",
       "674    NaN                0            0     0.0  Southampton  \n",
       "732    NaN                0            0     0.0  Southampton  \n",
       "806   39.0                0            0     0.0  Southampton  \n",
       "815    NaN                0            0     0.0  Southampton  \n",
       "822   38.0                0            0     0.0  Southampton  "
      ]
     },
     "execution_count": 23,
     "metadata": {},
     "output_type": "execute_result"
    }
   ],
   "source": [
    "#passageiros com tarifa zero\n",
    "gratuito = df[df['tarifa'] == 0.0]\n",
    "print('Temos que entre todos os passageiros {0} não tiveram sua tarifa cobrada.'.format(gratuito.shape[0]))\n",
    "gratuito"
   ]
  },
  {
   "cell_type": "markdown",
   "metadata": {},
   "source": [
    "Como podemos notar, na tabela acima, que todos os passageiros eram homens cujo a maioria (informada) era adulta.\n",
    "\n",
    "Outro aspecto que podemos mencionar é que todos embarcaram em Southampton, reforçando ainda mais que esses passageiros gratuitos era tripulantes do navio, pois sairam do ponto inicial. Além do mais que nenhum deles levaram irmãoes/conjuges ou pais/filhos.\n",
    "\n",
    "Se tratando dos sobreviventes podemos ver que apenas 1 sobreviveu a tragédia.\n",
    "\n"
   ]
  },
  {
   "cell_type": "markdown",
   "metadata": {},
   "source": [
    "### 5 Conclusões\n",
    "A tragédia do Titanic foi, no século XX, o maior e inesperado desastre provocado por um iceberg. Fazendo com que sua hstória até vira-se filme.\n",
    "\n",
    "Através dessa análise podemos ver qual foi o sexo que deve maior índice de sobreviventes, se a classe da cabine que esses passageiros estavam contribuiu para sua sobrevivencia, se sua idade fez diferença na hora de embarque nos botes salva-vidas.\n",
    "Podemos ver que, embora a classe social ajudou muito, tivemos mortes em todas as classe, tendo num total (conforme analisado somente 891 dados dos mais de 1500 pessoas que morreram, segundo a hstória) 549 pessoas mortas, ou seja 61,62% dos passageiros no Titanic.\n",
    "\n",
    "O mais interessante nesta análise foi que podemos ver que os passageiros da terceira classe eram os que estavam em maior quantidade no navio (491 passageiros), porém foram os que tiveram a maior proporção de mortos no desastre (só sobreviveram 24,2363% dos passageiros da terceira classe, ou seja, 119 passageiros dos 491).\n",
    "\n",
    "Como era esperado, mulheres e crianças foram que obtiveram as maiores taxas de sobrevivência. E entre as crianças obtivemos a menor variação entre sexo dos sobreviventes (entre as crianças do sexo feminino 65,1163% sobreviveram e entre as crianças do sexo masculino 52,5000% sobreviveram).\n",
    "\n",
    "Nesta análise não foi feito um estudo profundo estatítico dos dados, e sim uma análise mais visual quantitativa.\n",
    "\n"
   ]
  },
  {
   "cell_type": "markdown",
   "metadata": {},
   "source": [
    "### Limitações\n",
    "\n",
    "Ao visualizar os dados através da função que mostra a quantidade de dados nulos, obtemos os seguintes resultados:\n",
    "\n",
    "    No campo da idade temos 177 valores nulos:\n",
    "        Para está analise, conforme foi dito anteriormente, foi desconsiderado os dados nulos, para que não havesse interferência externa nos dados, e consequentemente levasse a uma análise errônea.\n",
    "\n",
    "    No campo Cabine temos 687 valores nulos:\n",
    "        Como esse campo foi desconsiderado em nossa análise, os dados nulos não interferiram em nada.\n",
    "\n",
    "    No campo Embarque temos 2 valores nulos:\n",
    "        Este campo foi considerado somente na análise dos passageiros gratuitos, e como para esse aspectos todos os embarques estavam preenchidos, os 2 valores nulos não interferiram.\n"
   ]
  },
  {
   "cell_type": "markdown",
   "metadata": {},
   "source": [
    "### 6 Referências Usadas\n",
    "https://pt.wikipedia.org/wiki/RMS_Titanic\n",
    "\n",
    "www.kaggle.com/c/titanic/data\n",
    "\n",
    "https://www.vooo.pro/insights/guia-basico-para-plotar-graficos-usando-o-matplotlib-do-python/\n",
    "\n",
    "https://stackoverflow.com/questions/19410042/how-to-make-ipython-notebook-matplotlib-plot-inline\n",
    "\n",
    "https://matplotlib.org/api/_as_gen/matplotlib.pyplot.plot.html\n",
    "\n",
    "https://pandas.pydata.org/pandas-docs/version/0.22/"
   ]
  },
  {
   "cell_type": "code",
   "execution_count": null,
   "metadata": {},
   "outputs": [],
   "source": []
  }
 ],
 "metadata": {
  "kernelspec": {
   "display_name": "Python 3",
   "language": "python",
   "name": "python3"
  },
  "language_info": {
   "codemirror_mode": {
    "name": "ipython",
    "version": 3
   },
   "file_extension": ".py",
   "mimetype": "text/x-python",
   "name": "python",
   "nbconvert_exporter": "python",
   "pygments_lexer": "ipython3",
   "version": "3.6.5"
  }
 },
 "nbformat": 4,
 "nbformat_minor": 2
}
